{
 "cells": [
  {
   "cell_type": "markdown",
   "id": "33349a61-b1ed-45a0-912f-290a50117f0e",
   "metadata": {
    "tags": []
   },
   "source": [
    "#### Q1. Create a python program to sort the given list of tuples based on integer value using a lambda function."
   ]
  },
  {
   "cell_type": "code",
   "execution_count": 1,
   "id": "134c18e3-2efb-4596-84bd-eeeb7ca4d322",
   "metadata": {},
   "outputs": [],
   "source": [
    "t = [('Sachin Tendulkar', 34357), ('Ricky Ponting', 27483), ('Jack Kallis', 25534), ('Virat Kohli', 24936)]"
   ]
  },
  {
   "cell_type": "code",
   "execution_count": 20,
   "id": "31198447-559a-4abf-9cec-c592e11625f4",
   "metadata": {},
   "outputs": [],
   "source": [
    "sort = list(sorted(t,key=lambda i: i))"
   ]
  },
  {
   "cell_type": "code",
   "execution_count": 21,
   "id": "43ce85cc-6024-4fc3-be3b-aaaaec8a7de1",
   "metadata": {},
   "outputs": [
    {
     "data": {
      "text/plain": [
       "[('Jack Kallis', 25534),\n",
       " ('Ricky Ponting', 27483),\n",
       " ('Sachin Tendulkar', 34357),\n",
       " ('Virat Kohli', 24936)]"
      ]
     },
     "execution_count": 21,
     "metadata": {},
     "output_type": "execute_result"
    }
   ],
   "source": [
    "sort"
   ]
  },
  {
   "cell_type": "markdown",
   "id": "ae702383-9bc0-4224-b68b-acaf4c19542e",
   "metadata": {},
   "source": [
    "**************************************************************************************"
   ]
  },
  {
   "cell_type": "markdown",
   "id": "a741d422-bea7-4d26-babf-881a2c438fb1",
   "metadata": {},
   "source": [
    "#### Q2. Write a Python Program to find the squares of all the numbers in the given list of integers using lambda and map functions. [1, 2, 3, 4, 5, 6, 7, 8, 9, 10]"
   ]
  },
  {
   "cell_type": "code",
   "execution_count": 3,
   "id": "f3232ea0-ff10-4d01-b94f-5ea79d3caab1",
   "metadata": {},
   "outputs": [],
   "source": [
    "l=[ 1 , 2, 3, 4, 5, 6, 7, 8, 9, 10]"
   ]
  },
  {
   "cell_type": "code",
   "execution_count": 4,
   "id": "b2973362-c991-4305-a42d-27d748c723da",
   "metadata": {},
   "outputs": [
    {
     "data": {
      "text/plain": [
       "[1, 4, 9, 16, 25, 36, 49, 64, 81, 100]"
      ]
     },
     "execution_count": 4,
     "metadata": {},
     "output_type": "execute_result"
    }
   ],
   "source": [
    "list (map(lambda x : x**2,l))"
   ]
  },
  {
   "cell_type": "markdown",
   "id": "6037b17d-34eb-4abd-bcd8-76c9fc1b6885",
   "metadata": {},
   "source": [
    "**************************************************************************************"
   ]
  },
  {
   "cell_type": "markdown",
   "id": "f708c1aa-9bee-446a-94a0-a906120cc01a",
   "metadata": {},
   "source": [
    "#### Q3. Write a python program to convert the given list of integers into a tuple of strings. Use map an lambda functions Given String: \n",
    "\n",
    "[1, 2, 3, 4, 5, 6, 7, 8, 9, 10 ] Expected output: ('1', '2', '3', '4', '5', '6', '7', '8', '9', '10')"
   ]
  },
  {
   "cell_type": "code",
   "execution_count": 6,
   "id": "46d61959-8b18-4af6-aa53-072f716e0d08",
   "metadata": {},
   "outputs": [],
   "source": [
    "num = [1, 2, 3, 4, 5, 6, 7, 8, 9, 10]"
   ]
  },
  {
   "cell_type": "code",
   "execution_count": 7,
   "id": "f3e80074-3ef8-4349-9121-f215591a0441",
   "metadata": {},
   "outputs": [],
   "source": [
    "t = tuple(map(str,num))"
   ]
  },
  {
   "cell_type": "code",
   "execution_count": 8,
   "id": "684dc795-48db-4227-b279-28c96c3ed8d2",
   "metadata": {},
   "outputs": [
    {
     "data": {
      "text/plain": [
       "('1', '2', '3', '4', '5', '6', '7', '8', '9', '10')"
      ]
     },
     "execution_count": 8,
     "metadata": {},
     "output_type": "execute_result"
    }
   ],
   "source": [
    "t"
   ]
  },
  {
   "cell_type": "markdown",
   "id": "41afc4e0-8e93-4d63-9625-697d1ef6f9c5",
   "metadata": {},
   "source": [
    "**************************************************************************************"
   ]
  },
  {
   "cell_type": "markdown",
   "id": "00723640-3fc4-4c73-be4a-60102b521cf5",
   "metadata": {},
   "source": [
    "#### Q4. Write a python program using reduce function to compute the product of a list containing numbers from 1 to 25."
   ]
  },
  {
   "cell_type": "code",
   "execution_count": 11,
   "id": "b252127c-9bcc-4bed-bde1-72f39974e81a",
   "metadata": {},
   "outputs": [],
   "source": [
    "l = [i for i in range(1,26)]"
   ]
  },
  {
   "cell_type": "code",
   "execution_count": 12,
   "id": "2b1460ec-851f-40e0-99ec-3b8041fe7c9b",
   "metadata": {},
   "outputs": [],
   "source": [
    "from functools import reduce"
   ]
  },
  {
   "cell_type": "code",
   "execution_count": 13,
   "id": "463b103a-de9d-49be-aebb-b4c277e094f3",
   "metadata": {},
   "outputs": [
    {
     "data": {
      "text/plain": [
       "15511210043330985984000000"
      ]
     },
     "execution_count": 13,
     "metadata": {},
     "output_type": "execute_result"
    }
   ],
   "source": [
    "reduce(lambda x,y: x*y,l)"
   ]
  },
  {
   "cell_type": "markdown",
   "id": "eb20321b-3c65-440c-8505-536a9b41b5c5",
   "metadata": {},
   "source": [
    "**************************************************************************************"
   ]
  },
  {
   "cell_type": "markdown",
   "id": "e8cbf072-6b76-4348-b361-e4084c79e013",
   "metadata": {},
   "source": [
    "#### Q5. Write a python program to filter the numbers in a given list that are divisible by 2 and 3 using the filter function. [2, 3, 6, 9, 27, 60, 90, 120, 55, 46]"
   ]
  },
  {
   "cell_type": "code",
   "execution_count": 15,
   "id": "98c66850-24ee-4218-b221-c7f40a9de5d9",
   "metadata": {},
   "outputs": [],
   "source": [
    "l=[2, 3, 6, 9, 27, 60, 90, 120, 55, 46]"
   ]
  },
  {
   "cell_type": "code",
   "execution_count": 16,
   "id": "290d8977-ca17-4819-b1af-4f32654be3bf",
   "metadata": {},
   "outputs": [
    {
     "data": {
      "text/plain": [
       "[6, 60, 90, 120]"
      ]
     },
     "execution_count": 16,
     "metadata": {},
     "output_type": "execute_result"
    }
   ],
   "source": [
    "list(filter(lambda x: x%2==0 and x%3==0,l))"
   ]
  },
  {
   "cell_type": "markdown",
   "id": "0dff6b65-d52a-44b2-815e-54a67fb9bc5e",
   "metadata": {},
   "source": [
    "**************************************************************************************"
   ]
  },
  {
   "cell_type": "markdown",
   "id": "42c0c604-1a9e-40bf-ac6e-93af33a8a539",
   "metadata": {},
   "source": [
    "#### Q6. Write a python program to find palindromes in the given list of strings using lambda and filter function. \n",
    "['python', 'php', 'aba', 'radar', 'level']"
   ]
  },
  {
   "cell_type": "code",
   "execution_count": 17,
   "id": "06ef508a-e191-47e8-8844-83086a43a956",
   "metadata": {},
   "outputs": [],
   "source": [
    "l=['python', 'php', 'aba', 'radar', 'level']"
   ]
  },
  {
   "cell_type": "code",
   "execution_count": 18,
   "id": "1b125219-97c5-4305-ae96-3ab72f262732",
   "metadata": {},
   "outputs": [
    {
     "data": {
      "text/plain": [
       "['php', 'aba', 'radar', 'level']"
      ]
     },
     "execution_count": 18,
     "metadata": {},
     "output_type": "execute_result"
    }
   ],
   "source": [
    "list(filter(lambda x:x==x[::-1],l))"
   ]
  },
  {
   "cell_type": "code",
   "execution_count": null,
   "id": "cd832ed0-139a-4c02-9429-71e7c8a5c3cf",
   "metadata": {},
   "outputs": [],
   "source": []
  }
 ],
 "metadata": {
  "kernelspec": {
   "display_name": "Python 3 (ipykernel)",
   "language": "python",
   "name": "python3"
  },
  "language_info": {
   "codemirror_mode": {
    "name": "ipython",
    "version": 3
   },
   "file_extension": ".py",
   "mimetype": "text/x-python",
   "name": "python",
   "nbconvert_exporter": "python",
   "pygments_lexer": "ipython3",
   "version": "3.10.8"
  }
 },
 "nbformat": 4,
 "nbformat_minor": 5
}
