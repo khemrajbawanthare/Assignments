{
 "cells": [
  {
   "cell_type": "markdown",
   "id": "8bf3fc63-3f2e-43bc-a3f9-500ea22cee34",
   "metadata": {},
   "source": [
    "#### Q1. How do you comment code in Python? What are the different types of comments?"
   ]
  },
  {
   "cell_type": "markdown",
   "id": "cf0c7474-f590-4b34-9b33-f7a5cdad161c",
   "metadata": {},
   "source": [
    "##### In Python, we may use hashtags (#) multiple times to construct multiple lines of comments. Every line with a (#) before it will be regarded as a single-line comment"
   ]
  },
  {
   "cell_type": "markdown",
   "id": "75eeda9d-8a3c-47a5-9aa0-374ce624c9b3",
   "metadata": {},
   "source": [
    "##### We can observe that on running this code, there will be no output; thus, we utilize the strings inside triple quotes(\"\"\") as multi-line comments."
   ]
  },
  {
   "cell_type": "markdown",
   "id": "94f3e1e5-0733-49be-9271-fd59e890b2a9",
   "metadata": {},
   "source": [
    "***"
   ]
  },
  {
   "cell_type": "markdown",
   "id": "90347e67-ac83-4a51-a227-8cfa6e7419c1",
   "metadata": {},
   "source": [
    "#### Q3. How do you convert one data type to another in Python?"
   ]
  },
  {
   "cell_type": "markdown",
   "id": "4a596942-7ba1-4e3f-bbad-6c125f25bcb8",
   "metadata": {},
   "source": [
    "##### We use the built-in functions like int(), float(), str(), etc to perform explicit type conversion. This type of conversion is also called typecasting because the user casts (changes) the data type of the objects."
   ]
  },
  {
   "cell_type": "markdown",
   "id": "f0ced7f6-45c7-43b7-b33b-3c097d9d5db2",
   "metadata": {},
   "source": [
    "***"
   ]
  },
  {
   "cell_type": "markdown",
   "id": "d0970a16-4d1a-43e6-ba39-afb621b18297",
   "metadata": {},
   "source": [
    "#### Q4. How do you write and execute a Python script from the command line?"
   ]
  },
  {
   "cell_type": "markdown",
   "id": "c0c8732b-229e-4ca0-a14e-1810b470a049",
   "metadata": {},
   "source": [
    "##### The most basic and easy way to run a Python script is by using the python command. You need to open a command line and type the word python followed by the path to your script file like this: python first_script.py Hello World! Then you hit the ENTER button from the keyboard, and that's it"
   ]
  },
  {
   "cell_type": "markdown",
   "id": "b79f6503-75a2-4a13-a725-f379bf8a1806",
   "metadata": {},
   "source": [
    "***"
   ]
  },
  {
   "cell_type": "markdown",
   "id": "81ccef3d-502d-4b82-814a-614f03402ef6",
   "metadata": {},
   "source": [
    "#### Q5. Given a list my_list = [1, 2, 3, 4, 5], write the code to slice the list and obtain the sub-list [2, 3]."
   ]
  },
  {
   "cell_type": "code",
   "execution_count": 1,
   "id": "3fd05a0b-2a53-449b-afb4-496bdf0de5de",
   "metadata": {},
   "outputs": [],
   "source": [
    "my_list = [1,2,3,4,5]"
   ]
  },
  {
   "cell_type": "code",
   "execution_count": 2,
   "id": "e08d7542-b72f-42b1-9bff-45a63ca1759c",
   "metadata": {},
   "outputs": [
    {
     "name": "stdout",
     "output_type": "stream",
     "text": [
      "[2, 3]\n"
     ]
    }
   ],
   "source": [
    "print(my_list[1:3])"
   ]
  },
  {
   "cell_type": "markdown",
   "id": "2985a102-ffa2-40d7-81bb-08805538c9d7",
   "metadata": {},
   "source": [
    "***"
   ]
  },
  {
   "cell_type": "markdown",
   "id": "780c9789-8189-4d46-bc83-fcfb2fe5a391",
   "metadata": {},
   "source": [
    "#### Q6. What is a complex number in mathematics, and how is it represented in Python?"
   ]
  },
  {
   "cell_type": "markdown",
   "id": "9e55e0f6-8a26-482f-826f-759b74849414",
   "metadata": {},
   "source": [
    "#####  Complex numbers are the numbers that are expressed in the form of a+ib where, a,b are real numbers and 'i' is an imaginary number"
   ]
  },
  {
   "cell_type": "code",
   "execution_count": 3,
   "id": "bc862f36-c8f9-425d-bae0-bb8a5f861f71",
   "metadata": {},
   "outputs": [],
   "source": [
    "z =  20 + 4j"
   ]
  },
  {
   "cell_type": "code",
   "execution_count": 4,
   "id": "e7b67d07-5a65-4d17-a46d-19c9dd8cf4be",
   "metadata": {},
   "outputs": [
    {
     "name": "stdout",
     "output_type": "stream",
     "text": [
      "20.0\n"
     ]
    }
   ],
   "source": [
    "print(z.real)"
   ]
  },
  {
   "cell_type": "code",
   "execution_count": 5,
   "id": "053457f3-9630-489e-a8c9-e52df7b76866",
   "metadata": {},
   "outputs": [
    {
     "name": "stdout",
     "output_type": "stream",
     "text": [
      "4.0\n"
     ]
    }
   ],
   "source": [
    "print(z.imag)"
   ]
  },
  {
   "cell_type": "markdown",
   "id": "223c81ee-6879-412b-ab79-77d8520e4752",
   "metadata": {},
   "source": [
    "***"
   ]
  },
  {
   "cell_type": "markdown",
   "id": "32cc69c0-2548-4315-b524-0ef07e44e7e4",
   "metadata": {},
   "source": [
    "#### Q7. What is the correct way to declare a variable named age and assign the value 25 to it?"
   ]
  },
  {
   "cell_type": "code",
   "execution_count": 6,
   "id": "ec784a66-2aef-43a4-9cfd-d49ea4826f1f",
   "metadata": {},
   "outputs": [],
   "source": [
    "age = 25"
   ]
  },
  {
   "cell_type": "code",
   "execution_count": 7,
   "id": "86da5e26-f09e-42e1-a3e3-c44482b4f554",
   "metadata": {},
   "outputs": [
    {
     "data": {
      "text/plain": [
       "25"
      ]
     },
     "execution_count": 7,
     "metadata": {},
     "output_type": "execute_result"
    }
   ],
   "source": [
    "age"
   ]
  },
  {
   "cell_type": "markdown",
   "id": "241573a3-b3a2-497d-a6cc-0d9fdf17751c",
   "metadata": {},
   "source": [
    "***"
   ]
  },
  {
   "cell_type": "markdown",
   "id": "d1c238d7-a4aa-4ab9-9370-57a209a61b43",
   "metadata": {},
   "source": [
    "#### Q8. Declare a variable named price and assign the value 9.99 to it. What data type does this variable belong to?"
   ]
  },
  {
   "cell_type": "code",
   "execution_count": 8,
   "id": "244b23e0-5ac8-4478-9d6a-6464cbf8d6f2",
   "metadata": {},
   "outputs": [],
   "source": [
    "price = 9.99"
   ]
  },
  {
   "cell_type": "code",
   "execution_count": 9,
   "id": "b51a3a8a-f7c1-41d2-bb9d-28310b0aa406",
   "metadata": {},
   "outputs": [
    {
     "data": {
      "text/plain": [
       "float"
      ]
     },
     "execution_count": 9,
     "metadata": {},
     "output_type": "execute_result"
    }
   ],
   "source": [
    "type(price)"
   ]
  },
  {
   "cell_type": "markdown",
   "id": "28bf36c3-05a9-4ffc-a09f-4a27f981d771",
   "metadata": {},
   "source": [
    "***"
   ]
  },
  {
   "cell_type": "markdown",
   "id": "9d45bc7c-7c2c-4de3-a373-ab44cf2b6a5b",
   "metadata": {},
   "source": [
    "#### Q9. Create a variable named name and assign your full name to it as a string. How would you print the value of this variable?"
   ]
  },
  {
   "cell_type": "code",
   "execution_count": 10,
   "id": "5ee7b1bd-36d6-424c-99ae-f7b9633b8acf",
   "metadata": {},
   "outputs": [],
   "source": [
    "name = \"Khemraj Deoram Bawanthare\""
   ]
  },
  {
   "cell_type": "code",
   "execution_count": 11,
   "id": "5d014a37-0970-420e-8510-e0e5ec553383",
   "metadata": {},
   "outputs": [
    {
     "name": "stdout",
     "output_type": "stream",
     "text": [
      "25\n"
     ]
    }
   ],
   "source": [
    "print(len(name))"
   ]
  },
  {
   "cell_type": "markdown",
   "id": "210a8c1c-451a-4d52-99eb-49a67bf15a4b",
   "metadata": {},
   "source": [
    "***"
   ]
  },
  {
   "cell_type": "markdown",
   "id": "a8c179bc-32b1-4d11-b568-ea8b5a604239",
   "metadata": {},
   "source": [
    "#### Q10. Given the string \"Hello, World!\", extract the substring \"World\"."
   ]
  },
  {
   "cell_type": "code",
   "execution_count": 12,
   "id": "db0b285e-7585-46ed-96a9-ce313f2ff02e",
   "metadata": {},
   "outputs": [],
   "source": [
    "name = \"Hello, world!\""
   ]
  },
  {
   "cell_type": "code",
   "execution_count": 13,
   "id": "04c084e4-89cd-42c0-b97c-d4a71095e56b",
   "metadata": {},
   "outputs": [
    {
     "name": "stdout",
     "output_type": "stream",
     "text": [
      "world\n"
     ]
    }
   ],
   "source": [
    "print(name[7:12])"
   ]
  },
  {
   "cell_type": "markdown",
   "id": "566bdf2a-3e16-4031-b897-7a4c204a46de",
   "metadata": {},
   "source": [
    "***"
   ]
  },
  {
   "cell_type": "markdown",
   "id": "ecd607fa-12a0-41cf-b1ff-251751589cde",
   "metadata": {},
   "source": [
    "#### Q11. Create a variable named \"is_student\" and assign it a boolean value indicating whether you are currently a student or not."
   ]
  },
  {
   "cell_type": "code",
   "execution_count": 14,
   "id": "85839f3b-b62a-4fbf-8e5b-651f49904b23",
   "metadata": {},
   "outputs": [],
   "source": [
    "is_student = True"
   ]
  },
  {
   "cell_type": "code",
   "execution_count": 15,
   "id": "8034e877-d3c8-4666-b928-019991e76e42",
   "metadata": {},
   "outputs": [
    {
     "data": {
      "text/plain": [
       "True"
      ]
     },
     "execution_count": 15,
     "metadata": {},
     "output_type": "execute_result"
    }
   ],
   "source": [
    "is_student"
   ]
  },
  {
   "cell_type": "code",
   "execution_count": null,
   "id": "bcf8bca9-511a-4d42-b1c4-456e69152791",
   "metadata": {},
   "outputs": [],
   "source": []
  }
 ],
 "metadata": {
  "kernelspec": {
   "display_name": "Python 3 (ipykernel)",
   "language": "python",
   "name": "python3"
  },
  "language_info": {
   "codemirror_mode": {
    "name": "ipython",
    "version": 3
   },
   "file_extension": ".py",
   "mimetype": "text/x-python",
   "name": "python",
   "nbconvert_exporter": "python",
   "pygments_lexer": "ipython3",
   "version": "3.10.8"
  }
 },
 "nbformat": 4,
 "nbformat_minor": 5
}
