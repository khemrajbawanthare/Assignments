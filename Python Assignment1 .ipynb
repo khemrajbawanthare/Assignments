{
 "cells": [
  {
   "cell_type": "markdown",
   "id": "fc260f64-5af5-4c3b-ba05-e66e9ec05211",
   "metadata": {},
   "source": [
    "#### Q1. Which keyword is used to create a function? Create a function to return a list of odd numbers in the range of 1 to 25."
   ]
  },
  {
   "cell_type": "code",
   "execution_count": 1,
   "id": "d3329abd-bcab-4c27-9ad2-2cba285ee25b",
   "metadata": {},
   "outputs": [],
   "source": [
    "l= [1,2,34,5,6,7,8,910,11,12,13,14,15,16,17,18,19,20,21,22,23,24,25]"
   ]
  },
  {
   "cell_type": "code",
   "execution_count": 2,
   "id": "b30ad78c-4702-4e89-9ace-8cfe376e5ba0",
   "metadata": {},
   "outputs": [],
   "source": [
    "def test(l):\n",
    "     for i in l:\n",
    "            if i%2!=0:\n",
    "                print(i)\n"
   ]
  },
  {
   "cell_type": "code",
   "execution_count": 3,
   "id": "709e8f3d-56ff-436c-aa11-061561427568",
   "metadata": {},
   "outputs": [
    {
     "name": "stdout",
     "output_type": "stream",
     "text": [
      "1\n",
      "5\n",
      "7\n",
      "11\n",
      "13\n",
      "15\n",
      "17\n",
      "19\n",
      "21\n",
      "23\n",
      "25\n"
     ]
    }
   ],
   "source": [
    "test(l)"
   ]
  },
  {
   "cell_type": "markdown",
   "id": "3ed0c60d-9700-4cad-9eb5-ae5f4932c769",
   "metadata": {},
   "source": [
    "********************************************************************"
   ]
  },
  {
   "cell_type": "markdown",
   "id": "4f93dbbd-710b-44c0-bcf4-65a917500350",
   "metadata": {},
   "source": [
    "#### Q2. Why *args and **kwargs is used in some functions? Create a function each for *args and **kwargs to demonstrate their use."
   ]
  },
  {
   "cell_type": "code",
   "execution_count": 1,
   "id": "1ec09b64-9e7b-4c29-a543-2883a46990b0",
   "metadata": {},
   "outputs": [],
   "source": [
    " ## Python *args parameter in a function definition allows the function to accept multiple arguments without knowing how many arguments\n"
   ]
  },
  {
   "cell_type": "code",
   "execution_count": 3,
   "id": "3cec86bc-9475-4285-89db-0feeb24b95c1",
   "metadata": {},
   "outputs": [],
   "source": [
    "def test(*arg):\n",
    "    return arg "
   ]
  },
  {
   "cell_type": "code",
   "execution_count": 4,
   "id": "5b0ee01b-5e86-4f77-91d0-960198ea8264",
   "metadata": {},
   "outputs": [
    {
     "data": {
      "text/plain": [
       "('om', 10.2, 45, 'pw', 2)"
      ]
     },
     "execution_count": 4,
     "metadata": {},
     "output_type": "execute_result"
    }
   ],
   "source": [
    "test('om',10.2,45,\"pw\",2)"
   ]
  },
  {
   "cell_type": "code",
   "execution_count": 5,
   "id": "90f988b2-80a4-469e-bb79-75cd7e638213",
   "metadata": {},
   "outputs": [],
   "source": [
    "## **kwargs in function definitions in Python is used to pass a keyworded, variable-length argument list."
   ]
  },
  {
   "cell_type": "code",
   "execution_count": 6,
   "id": "ede85834-bd77-4c5f-8e30-ca932248b6d3",
   "metadata": {},
   "outputs": [],
   "source": [
    "def aa(**kwargs):\n",
    "    return kwargs"
   ]
  },
  {
   "cell_type": "code",
   "execution_count": 7,
   "id": "42a06cd0-f0b0-48ac-983c-bdef0f935ddd",
   "metadata": {},
   "outputs": [
    {
     "data": {
      "text/plain": [
       "{'a': 12, 'b': 23, 'c': 10.32, 'd': ['om', 12, 2.3], 'e': 'pw'}"
      ]
     },
     "execution_count": 7,
     "metadata": {},
     "output_type": "execute_result"
    }
   ],
   "source": [
    "aa(a = 12,b=23,c=10.32,d=['om',12,2.3],e=\"pw\")"
   ]
  },
  {
   "cell_type": "markdown",
   "id": "f37aac8b-2580-440a-818e-55cd963c1b46",
   "metadata": {},
   "source": [
    "***"
   ]
  },
  {
   "cell_type": "markdown",
   "id": "0468d0e9-4b13-4d1a-a3bd-b26e7c7396d0",
   "metadata": {},
   "source": [
    "#### Q3. What is an iterator in python? Name the method used to initialise the iterator object and the method used for iteration. Use these methods to print the first five elements of the given list [2, 4, 6, 8, 10, 12, 14,16, 18, 20]."
   ]
  },
  {
   "cell_type": "code",
   "execution_count": 9,
   "id": "65ecd962-1bd1-47c3-91da-34f2d648f5ec",
   "metadata": {},
   "outputs": [],
   "source": [
    "##  Iterator is an object that allows you to iterate over collections of data, such as lists, tuples, dictionaries, and sets"
   ]
  },
  {
   "cell_type": "code",
   "execution_count": 10,
   "id": "b9eea3ac-d387-496b-bb17-0bb1af61a939",
   "metadata": {},
   "outputs": [],
   "source": [
    "## Iter() method is used to initialize the iterator object so that the instance of this object can be used for iterating."
   ]
  },
  {
   "cell_type": "code",
   "execution_count": 11,
   "id": "3a7e5dca-6eef-4091-abe4-bee70df42c39",
   "metadata": {},
   "outputs": [],
   "source": [
    "l =[i for i in range(1,21) if i%2==0]"
   ]
  },
  {
   "cell_type": "code",
   "execution_count": 12,
   "id": "799bec78-8a3d-41f1-a511-b1fb04e6d1ac",
   "metadata": {},
   "outputs": [],
   "source": [
    "l1 = iter(l)\n",
    "    "
   ]
  },
  {
   "cell_type": "code",
   "execution_count": 13,
   "id": "e9860603-69ae-4500-bec2-5b3974d189cb",
   "metadata": {},
   "outputs": [
    {
     "name": "stdout",
     "output_type": "stream",
     "text": [
      "2\n",
      "4\n",
      "6\n",
      "8\n",
      "10\n"
     ]
    }
   ],
   "source": [
    "for i in range(5):\n",
    "    value = next(l1)\n",
    "    print(value)"
   ]
  },
  {
   "cell_type": "markdown",
   "id": "c16de033-1ac7-466d-86d0-803e57420e91",
   "metadata": {},
   "source": [
    "***"
   ]
  },
  {
   "cell_type": "markdown",
   "id": "4ca40655-9c3b-4a4c-839b-a3219e8b849f",
   "metadata": {},
   "source": [
    "#### Q4. What is a generator function in python? Why yield keyword is used? Give an example of a generator function."
   ]
  },
  {
   "cell_type": "code",
   "execution_count": 1,
   "id": "7f57c71f-8d34-468f-b595-0ac65736ad8e",
   "metadata": {},
   "outputs": [],
   "source": [
    "##  A Python generator function allows you to declare a function that behaves like an iterator, providing a faster and easier way to create iterators"
   ]
  },
  {
   "cell_type": "code",
   "execution_count": 2,
   "id": "ea936d19-8be5-4cec-9fc6-80001c2ea7e4",
   "metadata": {},
   "outputs": [],
   "source": [
    "## yield keyword is used to create a generator function. A type of function that is memory efficient and can be used like an iterator object."
   ]
  },
  {
   "cell_type": "code",
   "execution_count": 3,
   "id": "b57d461b-5e22-4d0f-84ac-40222416a4a5",
   "metadata": {},
   "outputs": [],
   "source": [
    "def fib():\n",
    "    a,b=0,1\n",
    "    while True:\n",
    "        yield a\n",
    "        a,b = b,a+b"
   ]
  },
  {
   "cell_type": "code",
   "execution_count": 5,
   "id": "ccaf85a8-3700-47dc-8463-caf9546e7d62",
   "metadata": {},
   "outputs": [],
   "source": [
    "f= fib()"
   ]
  },
  {
   "cell_type": "code",
   "execution_count": 6,
   "id": "9b280bfe-f180-456e-a86b-1b05324393b4",
   "metadata": {},
   "outputs": [
    {
     "name": "stdout",
     "output_type": "stream",
     "text": [
      "0\n",
      "1\n",
      "1\n",
      "2\n",
      "3\n",
      "5\n",
      "8\n",
      "13\n"
     ]
    }
   ],
   "source": [
    "for i in range(8):\n",
    "    print(next(f))"
   ]
  },
  {
   "cell_type": "markdown",
   "id": "578a1679-bca3-4a98-8184-78a6f0a1f284",
   "metadata": {},
   "source": [
    "***"
   ]
  },
  {
   "cell_type": "markdown",
   "id": "b9762ef5-61fe-4e4b-b336-1029b4001bdd",
   "metadata": {},
   "source": [
    "#### Q5. Create a generator function for prime numbers less than 1000. Use the next() method to print the first 20 prime numbers."
   ]
  },
  {
   "cell_type": "markdown",
   "id": "11e3e579-3118-4939-9265-4151178e948f",
   "metadata": {
    "tags": []
   },
   "source": [
    "***"
   ]
  },
  {
   "cell_type": "markdown",
   "id": "600f24c1-cfe3-4411-8758-93e0bb5184cf",
   "metadata": {},
   "source": [
    "#### Q6. Write a python program to print the first 10 Fibonacci numbers using a while loop."
   ]
  },
  {
   "cell_type": "code",
   "execution_count": 7,
   "id": "5cf11a8c-5fbc-4cc9-856c-7da3addef74e",
   "metadata": {},
   "outputs": [
    {
     "name": "stdout",
     "output_type": "stream",
     "text": [
      "0 1 1 2 3 5 8 13 21 34 "
     ]
    }
   ],
   "source": [
    "a = 0\n",
    "b = 1\n",
    "i = 1\n",
    "\n",
    "print(a ,b, end=' ')\n",
    "while i < 9 :\n",
    "        sum = a + b\n",
    "        i = i+1\n",
    "        print(sum,end=' ') \n",
    "        a = b\n",
    "        b = sum\n",
    "        "
   ]
  },
  {
   "cell_type": "markdown",
   "id": "03414b6b-bbe7-4d41-b2ef-a01d9f5668c7",
   "metadata": {},
   "source": [
    "***"
   ]
  },
  {
   "cell_type": "markdown",
   "id": "bd8c09c4-e3de-4c96-bf69-0d2448a877e6",
   "metadata": {},
   "source": [
    "#### Q7. Write a List Comprehension to iterate through the given string: ‘pwskills’. Expected output: ['p', 'w', 's', 'k', 'i', 'l', 'l', 's']"
   ]
  },
  {
   "cell_type": "code",
   "execution_count": 8,
   "id": "90dd2da5-19ca-41d5-a20e-6793d588025d",
   "metadata": {},
   "outputs": [],
   "source": [
    "s= \"pwskills\""
   ]
  },
  {
   "cell_type": "code",
   "execution_count": 9,
   "id": "c46c0b07-4b96-4550-9f2f-450a16ade91a",
   "metadata": {},
   "outputs": [],
   "source": [
    "a = list(s)"
   ]
  },
  {
   "cell_type": "code",
   "execution_count": 10,
   "id": "e35119ac-5675-4203-a49f-5364924628fc",
   "metadata": {},
   "outputs": [
    {
     "data": {
      "text/plain": [
       "['p', 'w', 's', 'k', 'i', 'l', 'l', 's']"
      ]
     },
     "execution_count": 10,
     "metadata": {},
     "output_type": "execute_result"
    }
   ],
   "source": [
    "a"
   ]
  },
  {
   "cell_type": "markdown",
   "id": "60d8b9db-e6a8-4d39-81b2-fee5cd176360",
   "metadata": {},
   "source": [
    "***"
   ]
  },
  {
   "cell_type": "markdown",
   "id": "2d64be32-8ce4-4963-af0c-0040ff1b932b",
   "metadata": {},
   "source": [
    "#### Q8. Write a python program to check whether a given number is Palindrome or not using a while loop."
   ]
  },
  {
   "cell_type": "code",
   "execution_count": 11,
   "id": "fc71a781-a078-4215-91e9-cb3088b0a238",
   "metadata": {},
   "outputs": [
    {
     "name": "stdin",
     "output_type": "stream",
     "text": [
      "Enter a Number: 121\n"
     ]
    },
    {
     "name": "stdout",
     "output_type": "stream",
     "text": [
      "The Number is a palindrome\n"
     ]
    }
   ],
   "source": [
    "string=input((\"Enter a Number:\"))\n",
    "if(string==string[::-1]):\n",
    "      print(\"The Number is a palindrome\")\n",
    "else:\n",
    "      print(\"Not a palindrome\")"
   ]
  },
  {
   "cell_type": "markdown",
   "id": "5c13f449-8b88-4aa9-b30a-472d86530561",
   "metadata": {},
   "source": [
    "***"
   ]
  },
  {
   "cell_type": "markdown",
   "id": "8697b59d-10ee-4d98-b230-4820c73885ee",
   "metadata": {},
   "source": [
    "#### Q9. Write a code to print odd numbers from 1 to 100 using list comprehension."
   ]
  },
  {
   "cell_type": "code",
   "execution_count": 12,
   "id": "8b7951b5-e5c9-46e1-bfdf-f597581b3385",
   "metadata": {},
   "outputs": [],
   "source": [
    "l =[]\n",
    "\n",
    "for i in range(1,100):\n",
    "\n",
    "    l.append(i)\n",
    "    "
   ]
  },
  {
   "cell_type": "code",
   "execution_count": 13,
   "id": "bdcb195b-fd14-4d07-9bf2-e7d3674dfda2",
   "metadata": {},
   "outputs": [],
   "source": [
    "l1 = [x for x in range(100) if x%2!=0]"
   ]
  },
  {
   "cell_type": "code",
   "execution_count": null,
   "id": "008c6dc0-b69a-4d50-ae83-0ce23f749751",
   "metadata": {},
   "outputs": [],
   "source": []
  }
 ],
 "metadata": {
  "kernelspec": {
   "display_name": "Python 3 (ipykernel)",
   "language": "python",
   "name": "python3"
  },
  "language_info": {
   "codemirror_mode": {
    "name": "ipython",
    "version": 3
   },
   "file_extension": ".py",
   "mimetype": "text/x-python",
   "name": "python",
   "nbconvert_exporter": "python",
   "pygments_lexer": "ipython3",
   "version": "3.10.8"
  }
 },
 "nbformat": 4,
 "nbformat_minor": 5
}
