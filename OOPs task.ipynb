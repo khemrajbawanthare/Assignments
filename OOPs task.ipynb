{
 "cells": [
  {
   "cell_type": "markdown",
   "id": "a0dd59f4-39f7-4d27-a5f4-82307ea9f698",
   "metadata": {},
   "source": [
    "#### Q1, Create a vehicle class with an init method having instance variables as name_of_vehicle, max_speed and average_of_vehicle."
   ]
  },
  {
   "cell_type": "code",
   "execution_count": 5,
   "id": "c4ffaea6-dc6a-4c09-8692-85277bd2e10a",
   "metadata": {},
   "outputs": [],
   "source": [
    "class vehicle:\n",
    "     \n",
    "        def __init__(self,name_of_vehicle,max_speed,average_of_vehicle):\n",
    "            self.name_of_vehicle = name_of_vehicle\n",
    "            self.max_speed = max_speed\n",
    "            self.average_of_vehicle = average_of_vehicle\n",
    "            \n",
    "            "
   ]
  },
  {
   "cell_type": "code",
   "execution_count": 6,
   "id": "3be306e7-5bd0-4528-918d-8daed096267f",
   "metadata": {},
   "outputs": [],
   "source": [
    "a = vehicle(\"Honda\", 200,40)"
   ]
  },
  {
   "cell_type": "code",
   "execution_count": 8,
   "id": "814a2e74-88e2-49c3-9484-6d04c4a7dd7d",
   "metadata": {},
   "outputs": [
    {
     "data": {
      "text/plain": [
       "(40,)"
      ]
     },
     "execution_count": 8,
     "metadata": {},
     "output_type": "execute_result"
    }
   ],
   "source": [
    "a.average_of_vehicle,"
   ]
  },
  {
   "cell_type": "code",
   "execution_count": 9,
   "id": "5a263880-d569-4452-b6a4-d2db43791f7d",
   "metadata": {},
   "outputs": [
    {
     "data": {
      "text/plain": [
       "'Honda'"
      ]
     },
     "execution_count": 9,
     "metadata": {},
     "output_type": "execute_result"
    }
   ],
   "source": [
    "a.name_of_vehicle\n"
   ]
  },
  {
   "cell_type": "code",
   "execution_count": 10,
   "id": "150f9a2d-7dcd-4bab-a12b-5334a8151792",
   "metadata": {},
   "outputs": [
    {
     "data": {
      "text/plain": [
       "200"
      ]
     },
     "execution_count": 10,
     "metadata": {},
     "output_type": "execute_result"
    }
   ],
   "source": [
    "a.max_speed"
   ]
  },
  {
   "cell_type": "markdown",
   "id": "ae270d9e-497c-4940-9c98-526dd83053a4",
   "metadata": {},
   "source": [
    "***"
   ]
  },
  {
   "cell_type": "markdown",
   "id": "c49d71c3-4135-456c-bdf3-d369c0ff0f11",
   "metadata": {},
   "source": [
    "#### Q2. Create a child class car from the vehicle class created in Que 1, which will inherit the vehicle class. Create a method named seating_capacity which takes capacity as an argument and returns the name of the vehicle and its seating capacity."
   ]
  },
  {
   "cell_type": "code",
   "execution_count": 1,
   "id": "f3771932-0eb2-4768-a925-90563f9f8da3",
   "metadata": {},
   "outputs": [],
   "source": [
    "class vehicle:\n",
    "     \n",
    "        def __init__(self,name_of_vehicle,max_speed,average_of_vehicle):\n",
    "            self.name_of_vehicle = name_of_vehicle\n",
    "            self.max_speed = max_speed\n",
    "            self.average_of_vehicle = average_of_vehicle\n",
    "            "
   ]
  },
  {
   "cell_type": "code",
   "execution_count": 2,
   "id": "222e6afc-8916-4459-86b5-805c099cebf8",
   "metadata": {},
   "outputs": [],
   "source": [
    "class car(vehicle):\n",
    "    def __init__seating_capacity(self, capacity):\n",
    "        self.capacity = capacity\n",
    "        self.max_speed"
   ]
  },
  {
   "cell_type": "code",
   "execution_count": 3,
   "id": "92c5f687-2af2-4790-92af-7232f6af2b77",
   "metadata": {},
   "outputs": [],
   "source": [
    "b = car(\"hionda\",45,6)"
   ]
  },
  {
   "cell_type": "code",
   "execution_count": null,
   "id": "e5cd2ecf-6d89-4e66-ad3d-cac043fc290a",
   "metadata": {},
   "outputs": [],
   "source": [
    "b."
   ]
  },
  {
   "cell_type": "code",
   "execution_count": null,
   "id": "4b32a23b-fbf4-4045-90c2-007ede906b11",
   "metadata": {},
   "outputs": [],
   "source": []
  },
  {
   "cell_type": "code",
   "execution_count": null,
   "id": "e0a492fb-70d5-4546-bede-99d46ffbfa0b",
   "metadata": {},
   "outputs": [],
   "source": []
  },
  {
   "cell_type": "markdown",
   "id": "390148fc-9c7b-441e-ad92-f3d96086f594",
   "metadata": {},
   "source": [
    "***"
   ]
  },
  {
   "cell_type": "markdown",
   "id": "ec06f23b-2136-450a-9789-fc4dfc14ff7f",
   "metadata": {},
   "source": [
    "#### Q3. What is multiple inheritance? Write a python code to demonstrate multiple inheritance."
   ]
  },
  {
   "cell_type": "code",
   "execution_count": 4,
   "id": "b643ce84-d230-4f2b-91dc-d5bde326c835",
   "metadata": {},
   "outputs": [],
   "source": [
    "class parent1:\n",
    "    \n",
    "    def parent_method1(self):\n",
    "        print(\"this is first parent  method\")"
   ]
  },
  {
   "cell_type": "code",
   "execution_count": 5,
   "id": "b84d3163-b328-4468-bd7d-0daf8e272280",
   "metadata": {},
   "outputs": [],
   "source": [
    "class parent2:\n",
    "    \n",
    "    def parent_method2(self):\n",
    "        print (\"this is second parent  method\")"
   ]
  },
  {
   "cell_type": "code",
   "execution_count": 6,
   "id": "648fa9fd-50f7-4260-b31a-022da4a96c26",
   "metadata": {},
   "outputs": [],
   "source": [
    "class child(parent1,parent2):\n",
    "    def child_method(self ):\n",
    "        print( \"this is second parent  method\")"
   ]
  },
  {
   "cell_type": "code",
   "execution_count": 7,
   "id": "15702b4c-3e1d-4c6a-9796-ed1bd7cdff9e",
   "metadata": {},
   "outputs": [],
   "source": [
    "a = child()"
   ]
  },
  {
   "cell_type": "code",
   "execution_count": 8,
   "id": "b539df54-f019-46fd-af29-e58fa7fff6c0",
   "metadata": {},
   "outputs": [
    {
     "name": "stdout",
     "output_type": "stream",
     "text": [
      "this is first parent  method\n"
     ]
    }
   ],
   "source": [
    "a.parent_method1()"
   ]
  },
  {
   "cell_type": "code",
   "execution_count": 9,
   "id": "aa9fe0f7-f48d-4e22-8242-f15f3db8ccd2",
   "metadata": {},
   "outputs": [
    {
     "name": "stdout",
     "output_type": "stream",
     "text": [
      "this is second parent  method\n"
     ]
    }
   ],
   "source": [
    "a.parent_method2()"
   ]
  },
  {
   "cell_type": "code",
   "execution_count": 10,
   "id": "e1e93499-c730-408c-a76e-b6c6f53bd8ba",
   "metadata": {},
   "outputs": [
    {
     "name": "stdout",
     "output_type": "stream",
     "text": [
      "this is second parent  method\n"
     ]
    }
   ],
   "source": [
    "a.child_method()"
   ]
  },
  {
   "cell_type": "markdown",
   "id": "28c64dc1-f31a-4ed4-9295-03b88272aa4f",
   "metadata": {},
   "source": [
    "***"
   ]
  },
  {
   "cell_type": "markdown",
   "id": "f027383e-e54b-41bf-9350-c47ac04097f3",
   "metadata": {},
   "source": [
    "#### Q4. What are getter and setter in python? Create a class and create a getter and a setter method in this class."
   ]
  },
  {
   "cell_type": "code",
   "execution_count": 11,
   "id": "89def46e-fa49-44a2-8f69-73aad6db438f",
   "metadata": {},
   "outputs": [],
   "source": [
    "class phone:\n",
    "    \n",
    "    def __init__(self,name,company,price):\n",
    "        self.__name = name\n",
    "        self.__company = company\n",
    "        self.__price = price\n",
    "        \n",
    "    def set_price(self, price):\n",
    "        self.__price =  price\n",
    "        \n",
    "    def get_price(self):\n",
    "        return self.__price"
   ]
  },
  {
   "cell_type": "code",
   "execution_count": 12,
   "id": "3bd9b5c1-d30f-4611-8940-11a5fe5d0d79",
   "metadata": {},
   "outputs": [],
   "source": [
    "a = phone(\"A51\", \"samsung\", 2000)"
   ]
  },
  {
   "cell_type": "code",
   "execution_count": 13,
   "id": "52ef55be-e0ba-41f4-9b25-d21fa1ed2f5a",
   "metadata": {},
   "outputs": [
    {
     "data": {
      "text/plain": [
       "'samsung'"
      ]
     },
     "execution_count": 13,
     "metadata": {},
     "output_type": "execute_result"
    }
   ],
   "source": [
    "a._phone__company"
   ]
  },
  {
   "cell_type": "code",
   "execution_count": 14,
   "id": "11963ec6-4528-4e58-9258-73d87b305ac8",
   "metadata": {},
   "outputs": [
    {
     "data": {
      "text/plain": [
       "2000"
      ]
     },
     "execution_count": 14,
     "metadata": {},
     "output_type": "execute_result"
    }
   ],
   "source": [
    "a._phone__price"
   ]
  },
  {
   "cell_type": "code",
   "execution_count": 15,
   "id": "08501383-e3df-400c-acee-0bc65b8ebe9f",
   "metadata": {},
   "outputs": [],
   "source": [
    "a.set_price(4000)"
   ]
  },
  {
   "cell_type": "code",
   "execution_count": 16,
   "id": "391d1f19-f8c8-45f8-b9bd-3e2d1364e5eb",
   "metadata": {},
   "outputs": [
    {
     "data": {
      "text/plain": [
       "4000"
      ]
     },
     "execution_count": 16,
     "metadata": {},
     "output_type": "execute_result"
    }
   ],
   "source": [
    "a.get_price()"
   ]
  },
  {
   "cell_type": "markdown",
   "id": "f797af94-698e-4f38-9ce8-a509886bf6de",
   "metadata": {},
   "source": [
    "***"
   ]
  },
  {
   "cell_type": "markdown",
   "id": "1b807a36-518d-4ae8-8697-1504301d572b",
   "metadata": {},
   "source": [
    "#### Q5.What is method overriding in python? Write a python code to demonstrate method overriding."
   ]
  },
  {
   "cell_type": "code",
   "execution_count": 17,
   "id": "471acb34-5be7-4c54-884d-37ba8b719df4",
   "metadata": {},
   "outputs": [],
   "source": [
    "class parent :\n",
    "    \n",
    "    def test(self):\n",
    "        print (\"this is parent class method\")"
   ]
  },
  {
   "cell_type": "code",
   "execution_count": 18,
   "id": "baae4633-09ae-40f3-8cc9-5896b68ffe7f",
   "metadata": {},
   "outputs": [],
   "source": [
    "class child(parent):\n",
    "    def test(self):\n",
    "        print (\"this is child class method\")"
   ]
  },
  {
   "cell_type": "code",
   "execution_count": 19,
   "id": "a98acfb6-0349-4813-a514-e28b38479ef5",
   "metadata": {},
   "outputs": [],
   "source": [
    "a  = child()"
   ]
  },
  {
   "cell_type": "code",
   "execution_count": 20,
   "id": "ad522ee8-76b5-451d-945d-308702884a23",
   "metadata": {},
   "outputs": [
    {
     "name": "stdout",
     "output_type": "stream",
     "text": [
      "this is child class method\n"
     ]
    }
   ],
   "source": [
    "a.test()"
   ]
  },
  {
   "cell_type": "code",
   "execution_count": null,
   "id": "252fc0e8-c0f1-4a78-b7fc-71dadbbab345",
   "metadata": {},
   "outputs": [],
   "source": []
  }
 ],
 "metadata": {
  "kernelspec": {
   "display_name": "Python 3 (ipykernel)",
   "language": "python",
   "name": "python3"
  },
  "language_info": {
   "codemirror_mode": {
    "name": "ipython",
    "version": 3
   },
   "file_extension": ".py",
   "mimetype": "text/x-python",
   "name": "python",
   "nbconvert_exporter": "python",
   "pygments_lexer": "ipython3",
   "version": "3.10.8"
  }
 },
 "nbformat": 4,
 "nbformat_minor": 5
}
