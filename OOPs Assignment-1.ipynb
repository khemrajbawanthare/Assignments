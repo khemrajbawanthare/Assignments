{
 "cells": [
  {
   "cell_type": "markdown",
   "id": "a8c55e2c-f3d3-4eed-95b5-03e19488723d",
   "metadata": {},
   "source": [
    "#### Q1. Explain Class and Object with respect to Object-Oriented Programming. Give a suitable example."
   ]
  },
  {
   "cell_type": "markdown",
   "id": "90043ccd-2284-4920-972e-976ba271fcc9",
   "metadata": {},
   "source": [
    "##### Object − Objects have states and behaviors. Example: A dog has states - color, name, breed as well as behaviors – wagging the tail, barking, eating. An object is an instance of a class. Class − A class can be defined as a template/blueprint that describes the behavior/state that the object of its type support."
   ]
  },
  {
   "cell_type": "code",
   "execution_count": 7,
   "id": "4271a88b-8901-4c0a-89aa-9d703edcfc60",
   "metadata": {},
   "outputs": [],
   "source": [
    "class bike:\n",
    "    name = \"Honda\"\n",
    "    gear = 0\n",
    "    \n",
    "    def riding(self):\n",
    "        print(\"This bike can ride\")"
   ]
  },
  {
   "cell_type": "markdown",
   "id": "bb6a519f-4a51-4bff-822e-2dc811065955",
   "metadata": {},
   "source": [
    "##### Here Bike is a class, which has name and gear as states and riding as behaviour"
   ]
  },
  {
   "cell_type": "code",
   "execution_count": 8,
   "id": "d1b9c6b7-54a3-49b2-8e61-cfaacd246e38",
   "metadata": {},
   "outputs": [],
   "source": [
    "b = bike()"
   ]
  },
  {
   "cell_type": "code",
   "execution_count": 10,
   "id": "8fa499a5-1702-4b40-9754-b7b79af75135",
   "metadata": {},
   "outputs": [
    {
     "name": "stdout",
     "output_type": "stream",
     "text": [
      "This bike can ride\n"
     ]
    },
    {
     "data": {
      "text/plain": [
       "(0, 'Honda|', None)"
      ]
     },
     "execution_count": 10,
     "metadata": {},
     "output_type": "execute_result"
    }
   ],
   "source": [
    "b.gear,b.name,b.riding()"
   ]
  },
  {
   "cell_type": "markdown",
   "id": "0d662d6c-65a1-449f-8112-86a517262a29",
   "metadata": {},
   "source": [
    "##### Here we have created an object variable of class bike and we are accessing the properties throuth it "
   ]
  },
  {
   "cell_type": "markdown",
   "id": "3b49f814-d552-4090-baf5-c0618c25807b",
   "metadata": {},
   "source": [
    "***"
   ]
  },
  {
   "cell_type": "markdown",
   "id": "27c8c9fd-9e7f-4973-96b7-649af36d0713",
   "metadata": {},
   "source": [
    "#### Q2. Name the four pillars of OOPs."
   ]
  },
  {
   "cell_type": "markdown",
   "id": "30074b7d-8c8b-45e2-8342-4587ec8a243e",
   "metadata": {},
   "source": [
    "##### The Four pillars of OOPs, abstraction, encapsulation, inheritance, and polymorphism"
   ]
  },
  {
   "cell_type": "markdown",
   "id": "11420ecd-c99a-413b-bec8-2376bed2da29",
   "metadata": {},
   "source": [
    "***"
   ]
  },
  {
   "cell_type": "markdown",
   "id": "1841dd62-92b2-425e-a2f1-dc0f9e8cffc8",
   "metadata": {},
   "source": [
    "#### Q3. Explain why the __init__() function is used. Give a suitable example."
   ]
  },
  {
   "cell_type": "markdown",
   "id": "8ff08a12-74e3-46cb-9f6a-d151d24367f7",
   "metadata": {},
   "source": [
    "#####    __init__ is a special python method that runs whenever a new object is created. These types of functions are used to initialize the attributes of that class,"
   ]
  },
  {
   "cell_type": "code",
   "execution_count": 1,
   "id": "e74b0d65-4269-4252-99a9-c684002b5870",
   "metadata": {},
   "outputs": [],
   "source": [
    "class Car:\n",
    "    def __init__(self, name):\n",
    "        self.name = name\n",
    "        print(\"I ran first\")\n",
    " \n",
    "    def product(self):\n",
    "        print(\"I ran second\")\n",
    "        return (\"Name: \" + self.name)\n"
   ]
  },
  {
   "cell_type": "code",
   "execution_count": 2,
   "id": "22fd7495-3afc-4418-a8b9-dcec034b9ae4",
   "metadata": {},
   "outputs": [
    {
     "name": "stdout",
     "output_type": "stream",
     "text": [
      "I ran first\n",
      "I ran second\n",
      "Name: Audi R8\n"
     ]
    }
   ],
   "source": [
    "C = Car('Audi R8')\n",
    "print(C.product())"
   ]
  },
  {
   "cell_type": "markdown",
   "id": "bbeb4dd5-d053-43da-ba50-3c110dcf2a5f",
   "metadata": {},
   "source": [
    "***"
   ]
  },
  {
   "cell_type": "markdown",
   "id": "09d59ca4-4d79-4a6c-ac74-ccf2bb68e217",
   "metadata": {},
   "source": [
    "#### Q4. Why self is used in OOPs?"
   ]
  },
  {
   "cell_type": "markdown",
   "id": "ac224f6e-81d9-4a3b-9242-a30bd33aa30f",
   "metadata": {},
   "source": [
    "##### self represents the instance of the class. By using the “self” we can access the attributes and methods of the class in python. It binds the attributes with the given arguments. The reason you need to use self. is because Python does not use the @ syntax to refer to instance attributes"
   ]
  },
  {
   "cell_type": "markdown",
   "id": "05c6574f-ac6b-44a7-bd6d-de23fd2a2bc7",
   "metadata": {},
   "source": [
    "***"
   ]
  },
  {
   "cell_type": "markdown",
   "id": "ebbd660a-ff75-4325-a16b-2f33c94d33fb",
   "metadata": {},
   "source": [
    "#### Q5. What is inheritance? Give an example for each type of inheritance."
   ]
  },
  {
   "cell_type": "markdown",
   "id": "595f7bf8-5681-461b-8f9d-525e1f29b4f2",
   "metadata": {},
   "source": [
    "##### Inheritance is a mechanism in which one class acquires the property of another class. For example, a child inherits the traits of his/her parents. With inheritance, we can reuse the fields and methods of the existing class."
   ]
  },
  {
   "cell_type": "markdown",
   "id": "cc8c6a3d-cfc3-47b4-8ba2-d73044a0f383",
   "metadata": {},
   "source": [
    "##### 1) Single Inheritance:  It enables a derived class to inherit properties from a single parent class, thus enabling code reusability and the addition of new features to existing code."
   ]
  },
  {
   "cell_type": "code",
   "execution_count": 3,
   "id": "6b54b1b9-fcf0-452c-8f1d-e0f709de14ca",
   "metadata": {},
   "outputs": [],
   "source": [
    "class Parent:\n",
    "    def func1(self):\n",
    "        print(\"This function is in parent class.\")\n",
    "        \n",
    "     \n",
    "class Child(Parent):\n",
    "    def func2(self):\n",
    "        print(\"This function is in child class.\")\n"
   ]
  },
  {
   "cell_type": "code",
   "execution_count": 4,
   "id": "0005d570-58ac-45e5-805a-2699265b0186",
   "metadata": {},
   "outputs": [
    {
     "name": "stdout",
     "output_type": "stream",
     "text": [
      "This function is in parent class.\n",
      "This function is in child class.\n"
     ]
    }
   ],
   "source": [
    "# Driver's code\n",
    "object = Child()\n",
    "object.func1()\n",
    "object.func2()"
   ]
  },
  {
   "cell_type": "markdown",
   "id": "1e2afce8-8ef0-4d84-ae12-69fe163d5dfd",
   "metadata": {},
   "source": [
    "##### 2) Multiple Inheritance: When a class can be derived from more than one base class this type of inheritance is called multiple inheritances. In multiple inheritances, all the features of the base classes are inherited into the derived class. "
   ]
  },
  {
   "cell_type": "code",
   "execution_count": 5,
   "id": "3237da29-a2a4-4e55-bd27-3d378f82a3d1",
   "metadata": {},
   "outputs": [
    {
     "name": "stdout",
     "output_type": "stream",
     "text": [
      "Father : RAM\n",
      "Mother : SITA\n"
     ]
    }
   ],
   "source": [
    "class Mother:\n",
    "    mothername = \"\"\n",
    " \n",
    "    def mother(self):\n",
    "        print(self.mothername)\n",
    "\n",
    " \n",
    " \n",
    "class Father:\n",
    "    fathername = \"\"\n",
    " \n",
    "    def father(self):\n",
    "        print(self.fathername)\n",
    " \n",
    "class Son(Mother, Father):\n",
    "    def parents(self):\n",
    "        print(\"Father :\", self.fathername)\n",
    "        print(\"Mother :\", self.mothername)\n",
    " \n",
    " \n",
    "# Driver's code\n",
    "s1 = Son()\n",
    "s1.fathername = \"RAM\"\n",
    "s1.mothername = \"SITA\"\n",
    "s1.parents()"
   ]
  },
  {
   "cell_type": "markdown",
   "id": "c72e596f-c67f-42a4-89f5-62fa21f6383d",
   "metadata": {},
   "source": [
    "##### 3) Multilevel Inheritance : In multilevel inheritance, features of the base class and the derived class are further inherited into the new derived class. This is similar to a relationship representing a child and a grandfather. "
   ]
  },
  {
   "cell_type": "code",
   "execution_count": 6,
   "id": "ed8b581d-6776-40ef-9f33-8dac6772a94c",
   "metadata": {},
   "outputs": [
    {
     "name": "stdout",
     "output_type": "stream",
     "text": [
      "Lal mani\n",
      "Grandfather name : Lal mani\n",
      "Father name : Rampal\n",
      "Son name : Prince\n"
     ]
    }
   ],
   "source": [
    "class Grandfather:\n",
    " \n",
    "    def __init__(self, grandfathername):\n",
    "        self.grandfathername = grandfathername\n",
    " \n",
    "# Intermediate class\n",
    " \n",
    " \n",
    "class Father(Grandfather):\n",
    "    def __init__(self, fathername, grandfathername):\n",
    "        self.fathername = fathername\n",
    " \n",
    "        # invoking constructor of Grandfather class\n",
    "        Grandfather.__init__(self, grandfathername)\n",
    " \n",
    "# Derived class\n",
    " \n",
    " \n",
    "class Son(Father):\n",
    "    def __init__(self, sonname, fathername, grandfathername):\n",
    "        self.sonname = sonname\n",
    " \n",
    "        # invoking constructor of Father class\n",
    "        Father.__init__(self, fathername, grandfathername)\n",
    " \n",
    "    def print_name(self):\n",
    "        print('Grandfather name :', self.grandfathername)\n",
    "        print(\"Father name :\", self.fathername)\n",
    "        print(\"Son name :\", self.sonname)\n",
    " \n",
    " \n",
    "#  Driver code\n",
    "s1 = Son('Prince', 'Rampal', 'Lal mani')\n",
    "print(s1.grandfathername)\n",
    "s1.print_name()"
   ]
  },
  {
   "cell_type": "code",
   "execution_count": null,
   "id": "cc5dfec4-ddc1-4cbc-971e-0dc97d38c81e",
   "metadata": {},
   "outputs": [],
   "source": []
  }
 ],
 "metadata": {
  "kernelspec": {
   "display_name": "Python 3 (ipykernel)",
   "language": "python",
   "name": "python3"
  },
  "language_info": {
   "codemirror_mode": {
    "name": "ipython",
    "version": 3
   },
   "file_extension": ".py",
   "mimetype": "text/x-python",
   "name": "python",
   "nbconvert_exporter": "python",
   "pygments_lexer": "ipython3",
   "version": "3.10.8"
  }
 },
 "nbformat": 4,
 "nbformat_minor": 5
}
