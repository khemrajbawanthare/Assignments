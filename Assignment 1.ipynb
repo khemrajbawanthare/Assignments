{
 "cells": [
  {
   "cell_type": "markdown",
   "id": "3154d118-27fd-4c6d-8895-a8a49daff1ae",
   "metadata": {},
   "source": [
    "#### Q1. Create one variable containing following type of data:"
   ]
  },
  {
   "cell_type": "code",
   "execution_count": 1,
   "id": "7b821942-019f-4504-bee7-ec7d56452239",
   "metadata": {},
   "outputs": [],
   "source": [
    "a = \"pw\""
   ]
  },
  {
   "cell_type": "code",
   "execution_count": 2,
   "id": "32e5887c-694b-434e-8f59-ee3901538b41",
   "metadata": {},
   "outputs": [],
   "source": [
    "b = [\"go\", 10 ,15.23,[45,2.3,\"Khemraj\"],5+8j,]"
   ]
  },
  {
   "cell_type": "code",
   "execution_count": 3,
   "id": "718b7833-bd2b-4a46-9e7d-82151807351a",
   "metadata": {},
   "outputs": [],
   "source": [
    "c = 14.52"
   ]
  },
  {
   "cell_type": "code",
   "execution_count": 4,
   "id": "5568c492-8516-47ec-9aeb-3be703442275",
   "metadata": {},
   "outputs": [],
   "source": [
    "d = (45,-51,\"ram\",)"
   ]
  },
  {
   "cell_type": "code",
   "execution_count": 5,
   "id": "d5717387-fbc0-445e-b1cb-d728ef75842f",
   "metadata": {},
   "outputs": [
    {
     "data": {
      "text/plain": [
       "(45, -51, 'ram')"
      ]
     },
     "execution_count": 5,
     "metadata": {},
     "output_type": "execute_result"
    }
   ],
   "source": [
    "d"
   ]
  },
  {
   "cell_type": "code",
   "execution_count": 6,
   "id": "c1a4aaaf-407b-448c-9857-9e9073dd7d24",
   "metadata": {},
   "outputs": [
    {
     "data": {
      "text/plain": [
       "tuple"
      ]
     },
     "execution_count": 6,
     "metadata": {},
     "output_type": "execute_result"
    }
   ],
   "source": [
    "type(d)"
   ]
  },
  {
   "cell_type": "markdown",
   "id": "99baea64-06d9-48a3-b2c2-6b04f64699b0",
   "metadata": {},
   "source": [
    "***"
   ]
  },
  {
   "cell_type": "markdown",
   "id": "d3f061d2-68e6-4577-add1-2feec94df603",
   "metadata": {},
   "source": [
    "#### Q2. Given are some following variables containing data:"
   ]
  },
  {
   "cell_type": "code",
   "execution_count": 1,
   "id": "fbb984c8-b369-449d-9f7c-44712557c66f",
   "metadata": {},
   "outputs": [],
   "source": [
    "a =''"
   ]
  },
  {
   "cell_type": "code",
   "execution_count": 2,
   "id": "50daf298-2717-4ae5-b58e-4b2bf7f2d7e6",
   "metadata": {},
   "outputs": [
    {
     "data": {
      "text/plain": [
       "str"
      ]
     },
     "execution_count": 2,
     "metadata": {},
     "output_type": "execute_result"
    }
   ],
   "source": [
    "type(a)"
   ]
  },
  {
   "cell_type": "code",
   "execution_count": 3,
   "id": "98f6bbf5-5c3f-47dc-97eb-9a9b0325842c",
   "metadata": {},
   "outputs": [],
   "source": [
    "b='[DS,ML,Python]'"
   ]
  },
  {
   "cell_type": "code",
   "execution_count": 4,
   "id": "3f8b8681-1240-43b8-89d7-b644342e289a",
   "metadata": {},
   "outputs": [
    {
     "data": {
      "text/plain": [
       "str"
      ]
     },
     "execution_count": 4,
     "metadata": {},
     "output_type": "execute_result"
    }
   ],
   "source": [
    "type(b)"
   ]
  },
  {
   "cell_type": "code",
   "execution_count": 5,
   "id": "7700bfa5-ba12-446d-948d-a7e77a0df8d0",
   "metadata": {},
   "outputs": [],
   "source": [
    "c=['DS','ML','Python']"
   ]
  },
  {
   "cell_type": "code",
   "execution_count": 6,
   "id": "e4edf3c7-d337-4638-ab77-9a6c73750faf",
   "metadata": {},
   "outputs": [
    {
     "data": {
      "text/plain": [
       "list"
      ]
     },
     "execution_count": 6,
     "metadata": {},
     "output_type": "execute_result"
    }
   ],
   "source": [
    "type(c)"
   ]
  },
  {
   "cell_type": "code",
   "execution_count": 7,
   "id": "4dec58e4-2160-4e10-8976-1dfc190f2a24",
   "metadata": {},
   "outputs": [],
   "source": [
    "d= 1"
   ]
  },
  {
   "cell_type": "code",
   "execution_count": 8,
   "id": "c4045fa4-5f05-4b71-b890-f438ba5100ef",
   "metadata": {},
   "outputs": [
    {
     "data": {
      "text/plain": [
       "int"
      ]
     },
     "execution_count": 8,
     "metadata": {},
     "output_type": "execute_result"
    }
   ],
   "source": [
    "type(d)"
   ]
  },
  {
   "cell_type": "markdown",
   "id": "7bd025bf-5ca5-47a7-ae56-fb9ce322f6cc",
   "metadata": {},
   "source": [
    "***"
   ]
  },
  {
   "cell_type": "markdown",
   "id": "4eb47f25-cdbc-4119-ba4a-cc06c3708049",
   "metadata": {},
   "source": [
    "#### Q3. Explain the use of the following operators using an example:"
   ]
  },
  {
   "cell_type": "code",
   "execution_count": 9,
   "id": "563f8e24-5146-49be-b2f3-1affc4c9576c",
   "metadata": {},
   "outputs": [],
   "source": [
    "##  /  this operator use for divison"
   ]
  },
  {
   "cell_type": "code",
   "execution_count": 10,
   "id": "75a38aea-5c8e-459f-abf3-9ebeb033ac5d",
   "metadata": {},
   "outputs": [],
   "source": [
    "##   %    this operator use for finding modulous"
   ]
  },
  {
   "cell_type": "code",
   "execution_count": 11,
   "id": "b26147e6-7d4f-4c90-b329-1c1a075102ff",
   "metadata": {},
   "outputs": [],
   "source": [
    "## //  this operator use for floor divison"
   ]
  },
  {
   "cell_type": "code",
   "execution_count": 12,
   "id": "de5f6bdf-e268-4627-a528-adbf9f5a8115",
   "metadata": {},
   "outputs": [],
   "source": [
    "##  **  this operator use for exponentiation"
   ]
  },
  {
   "cell_type": "markdown",
   "id": "b4b71c51-83e0-44a2-ba25-317814409d58",
   "metadata": {},
   "source": [
    "***"
   ]
  },
  {
   "cell_type": "markdown",
   "id": "97be80c3-91f5-4dad-827d-0d1a22353a83",
   "metadata": {},
   "source": [
    "#### Q4. Create a list of length 10 of your choice containing multiple types of data. Using for loop print the element and its data type."
   ]
  },
  {
   "cell_type": "code",
   "execution_count": 13,
   "id": "e6bd9daa-86d4-4f4a-914c-7d8d11bba687",
   "metadata": {},
   "outputs": [],
   "source": [
    "l = [\"go\", True, 12,23,5,-5,-45,'pw',120.1,10,]"
   ]
  },
  {
   "cell_type": "code",
   "execution_count": 14,
   "id": "64d63c48-a9e9-4240-9d8e-4ea6ab989dbc",
   "metadata": {},
   "outputs": [
    {
     "name": "stdout",
     "output_type": "stream",
     "text": [
      "go\n",
      "True\n",
      "12\n",
      "23\n",
      "5\n",
      "-5\n",
      "-45\n",
      "pw\n",
      "120.1\n",
      "10\n"
     ]
    }
   ],
   "source": [
    "for i in l:\n",
    "    print(i)"
   ]
  },
  {
   "cell_type": "code",
   "execution_count": 15,
   "id": "abdb3b6a-11da-43e1-b056-fecf4586fc56",
   "metadata": {},
   "outputs": [
    {
     "name": "stdout",
     "output_type": "stream",
     "text": [
      "<class 'str'>\n",
      "<class 'bool'>\n",
      "<class 'int'>\n",
      "<class 'int'>\n",
      "<class 'int'>\n",
      "<class 'int'>\n",
      "<class 'int'>\n",
      "<class 'str'>\n",
      "<class 'float'>\n",
      "<class 'int'>\n"
     ]
    }
   ],
   "source": [
    "for i in l:\n",
    "    print(type(i))"
   ]
  },
  {
   "cell_type": "markdown",
   "id": "46c879df-4f08-408d-bc13-43e2c24469f7",
   "metadata": {},
   "source": [
    "***"
   ]
  },
  {
   "cell_type": "markdown",
   "id": "96ff4bca-43b1-47d9-b2ee-545b8a1de65e",
   "metadata": {},
   "source": [
    "#### Q5. Using a while loop, verify if the number A is purely divisible by number B and if so then how many times it can be divisible."
   ]
  },
  {
   "cell_type": "code",
   "execution_count": 16,
   "id": "aa4e676d-ae32-4d6f-ac8a-28fdb5edee33",
   "metadata": {},
   "outputs": [
    {
     "name": "stdout",
     "output_type": "stream",
     "text": [
      "Enter first number \n"
     ]
    },
    {
     "name": "stdin",
     "output_type": "stream",
     "text": [
      " 4\n"
     ]
    },
    {
     "name": "stdout",
     "output_type": "stream",
     "text": [
      "Enter first number \n"
     ]
    },
    {
     "name": "stdin",
     "output_type": "stream",
     "text": [
      " 16\n"
     ]
    },
    {
     "name": "stdout",
     "output_type": "stream",
     "text": [
      "16 is divisible by 4 by 4 times\n"
     ]
    }
   ],
   "source": [
    "print (\"Enter first number \")\n",
    "i = int(input())\n",
    "\n",
    "print (\"Enter first number \")\n",
    "x = int(input())\n",
    "\n",
    "while i <= x :\n",
    "    if x %i == 0 :\n",
    "        \n",
    "        s = int( x/i) \n",
    "        print (str(x) + \" is divisible by \"+str(i) + \" by \" + str(s) + \" times\")\n",
    "        \n",
    "        break \n",
    "        \n",
    "    else :\n",
    "        print (\"Not divisible \")\n",
    "        \n",
    "        break"
   ]
  },
  {
   "cell_type": "markdown",
   "id": "6399aff8-1d9a-40f2-9c90-2b4906580cf9",
   "metadata": {},
   "source": [
    "***"
   ]
  },
  {
   "cell_type": "markdown",
   "id": "e10ea4d3-3d1e-479e-8714-320f51186dc4",
   "metadata": {},
   "source": [
    "#### Q6. Create a list containing 25 int type data. Using for loop and if-else condition print if the element is divisible by 3 or not."
   ]
  },
  {
   "cell_type": "code",
   "execution_count": 17,
   "id": "604edc54-ba39-4da3-a17b-5d41684d1049",
   "metadata": {},
   "outputs": [],
   "source": [
    "l =[1,2,3,4,5,6,7,8,9,10,11,12,13,14,15,16,17,18,19,20,21,22,23,24,25]"
   ]
  },
  {
   "cell_type": "code",
   "execution_count": 18,
   "id": "d6156579-477d-4635-83bd-bfb0523d62ef",
   "metadata": {},
   "outputs": [
    {
     "name": "stdout",
     "output_type": "stream",
     "text": [
      "following numbers are divisible by 3\n",
      "3\n",
      "6\n",
      "9\n",
      "12\n",
      "15\n",
      "18\n",
      "21\n",
      "24\n"
     ]
    }
   ],
   "source": [
    "  print(\"following numbers are divisible by 3\")\n",
    "for i in l:\n",
    "    if i%3==0:\n",
    "        print(i)\n",
    "        "
   ]
  },
  {
   "cell_type": "markdown",
   "id": "5d9acb88-27db-4ad2-8ba7-0298e10399e8",
   "metadata": {},
   "source": [
    "***"
   ]
  },
  {
   "cell_type": "markdown",
   "id": "6b727a34-6c8f-4795-bd06-aee814833162",
   "metadata": {},
   "source": [
    "#### Q7. What do you understand about mutable and immutable data types? Give examples for both showing this property."
   ]
  },
  {
   "cell_type": "markdown",
   "id": "f7dfee79-977a-45cb-977f-e9cd6a46b9ca",
   "metadata": {},
   "source": [
    "#### Mutable Data type"
   ]
  },
  {
   "cell_type": "markdown",
   "id": "86a74009-5b1a-4043-a23b-0eee1121b116",
   "metadata": {},
   "source": [
    "##### Anything is said to be mutable when anything can be modified or changed. The term \"mutable\" in Python refers to an object's capacity to modify its values. These are frequently the things that hold a data collection"
   ]
  },
  {
   "cell_type": "markdown",
   "id": "9548a0c1-b88e-4746-b8c9-6b3f73badb72",
   "metadata": {},
   "source": [
    "##### Ex. List, Dictionaries,Set"
   ]
  },
  {
   "cell_type": "markdown",
   "id": "25248200-a3d3-492c-b705-4767cb2c3884",
   "metadata": {},
   "source": [
    "#### Immutable "
   ]
  },
  {
   "cell_type": "markdown",
   "id": "5b8c2980-6b1f-4df4-896f-cb1f9fc53996",
   "metadata": {},
   "source": [
    "##### Immutable refers to a state in which no change can occur over time. A Python object is referred to as immutable if we cannot change its value over time. The value of these Python objects is fixed once they are made."
   ]
  },
  {
   "cell_type": "markdown",
   "id": "7d70f033-cfcb-4c7b-887b-d892668404a8",
   "metadata": {},
   "source": [
    "##### Ex. Numbers, tubles, strings,"
   ]
  },
  {
   "cell_type": "code",
   "execution_count": null,
   "id": "b4c551cf-38be-41f5-9208-51641589b63d",
   "metadata": {},
   "outputs": [],
   "source": []
  }
 ],
 "metadata": {
  "kernelspec": {
   "display_name": "Python 3 (ipykernel)",
   "language": "python",
   "name": "python3"
  },
  "language_info": {
   "codemirror_mode": {
    "name": "ipython",
    "version": 3
   },
   "file_extension": ".py",
   "mimetype": "text/x-python",
   "name": "python",
   "nbconvert_exporter": "python",
   "pygments_lexer": "ipython3",
   "version": "3.10.8"
  }
 },
 "nbformat": 4,
 "nbformat_minor": 5
}
